# Import necessary libraries
import glob
import numpy as np
import matplotlib.pyplot as plt
import pandas as pd
import verde as vd
import multiprocessing
from itertools import accumulate

from tqdm import tqdm

import xarray as xr

import time, array, random

from deap import base, creator, tools, algorithms

from CODES.modeling import create_seismic_model,calculate_parameters,calculate_parameters_from_vs
from CODES.dispersion_curves import create_velocity_model_from_profile,create_velocity_model_from_profile_vs,estimate_disp_from_velocity_model











folder_model_name = 'MCP1'





data_path = 'OUTPUT/'+folder_model_name+'/DATA/'





figures_path = 'OUTPUT/'+folder_model_name+'/FIGURES/'








df_inversion = pd.read_feather(data_path+'inversion_.feather')
df_inversion





fig, ax = plt.subplots(figsize=(8, 6))
prof_1 in profile
for dativ in df_inversion.iterrows():
    for data_inv in dativ[1]:
        ax.plot(data_inv['Vs'], dativ[1]['misfit'], '-')  # Sem o label
        
ax.set_xlabel('Number of inversions')
ax.set_ylabel('Misfit value')
ax.axvline(x=len(dativ[1]['ngen'])-1, color='red', linestyle='--', label='Last gen')
ax.legend(loc='upper right')
ax.grid(True)
plt.tight_layout()
ax.minorticks_on()
ax.grid(which='major', color='gray', linestyle='-', linewidth=0.5)
ax.grid(which='minor', color='gray', linestyle=':', linewidth=0.5, alpha=0.5)
ax.set_title('Misfit evolution')
      


df_inversion['Vs']


fig, ax = plt.subplots(figsize=(8, 6))
for dativ in df_inversion.iterrows():
    ax.semilogy(dativ[1]['ngen'], dativ[1]['misfit'], '-')  # Sem o label
        
ax.set_xlabel('Number of inversions')
ax.set_ylabel('Misfit value')
ax.axvline(x=len(dativ[1]['ngen'])-1, color='red', linestyle='--', label='Last gen')
ax.legend(loc='upper right')
ax.grid(True)
plt.tight_layout()
ax.minorticks_on()
ax.grid(which='major', color='gray', linestyle='-', linewidth=0.5)
ax.grid(which='minor', color='gray', linestyle=':', linewidth=0.5, alpha=0.5)
ax.set_title('Misfit evolution')
      
fig.savefig(figures_path+'misfit_total_.png', dpi=300)


lst_receptor = np.arange(1, 50-1,5)*2





grid_lst = []
for uni in df_inversion['profile'].unique():
    dativ = df_inversion[df_inversion['profile'] == uni]
    depth_result_lst = []
    velocity_result_lst = []
    receptor_result_lst = []
            
    depth_interval = -0.05

    # Selecting the two lowest values:
    df_misfit_2 = dativ.nsmallest(1, 'misfit_min')
    
    for dativ in df_misfit_2.iterrows():

        thickness_inv = dativ[1]['thick']
        vels_inv = dativ[1]['Vs']
        
        depths = [0]+[-j for j in list(accumulate(thickness_inv))]
            
        depths_fine = []
        vels_fine = []
        
        # Iterate through depth intervals
        for j in range(len(depths) - 1):
            # Create a new depth array within the interval with finer sampling
            depths_interval = np.arange(depths[j], depths[j + 1], depth_interval)
        
            depths_fine.extend(depths_interval)
            # Repeat the velocity value within the interval
            vels_fine.extend([vels_inv[j]] * len(depths_interval))

        receptor_result_lst.append([lst_receptor[uni-1]]*len(vels_fine))
        depth_result_lst.append(depths_fine)
        velocity_result_lst.append(vels_fine)
    receptor_result_lst = np.array([item for sublist in receptor_result_lst for item in sublist])
    depth_result_lst = np.array([item for sublist in depth_result_lst for item in sublist])
    velocity_result_lst = np.array([item for sublist in velocity_result_lst for item in sublist])
    
    # We'll test this on the air temperature data from Texas
    coordinates = (receptor_result_lst, depth_result_lst)
    velocitys = velocity_result_lst
    region = (0,100,-2,0)
    
    spacing = (0.1,0.1)
    
    # Now we can set up a gridder for the decimated data
    grd = vd.KNeighbors().fit(coordinates, velocitys)

    
    # The 'grid' method can still make a geographic grid if we pass in a projection
    # function that converts lon, lat into the easting, northing coordinates that
    # we used in 'fit'. This can be any function that takes lon, lat and returns x,
    # y. In our case, it'll be the 'projection' variable that we created above.
    # We'll also set the names of the grid dimensions and the name the data
    # variable in our grid (the default would be 'scalars', which isn't very
    # informative).
    grid = grd.grid(region=region,spacing=spacing,dims=["depth","receptor"],data_names="velocity")
    grid_lst.append(grid)
# Concatenar ao longo de uma nova dimensão e calcular a média
predicted_grid = xr.concat(grid_lst, dim="new_dim").mean(dim="new_dim")


# plotting 
fig,ax = plt.subplots(1, 1, figsize=(10, 5))

im = plt.imshow(predicted_grid.velocity.data, cmap='cividis',extent=[0, 100, -2.0, 0],vmin=100,vmax=1000,aspect=25,origin='lower')

for ix in lst_receptor:
    ax.vlines(x=ix,ymin=-2.0,ymax=0,colors='k',lw=1.0,ls='--',alpha=0.7)
    ax.scatter(x=ix,y=0.05,color='k',marker='v')

ax.hlines(y=0,xmin=0,xmax=100,colors='k',lw=2,ls='-',alpha=1)
ax.set_xlabel('Distance (m)')
ax.grid(which='major', color='gray', linestyle='-', linewidth=0.5)
ax.grid(which='minor', color='gray', linestyle=':', linewidth=0.5, alpha=0.5)
ax.set_ylabel('Depth (m)')
plt.colorbar(im, ax=ax,fraction=0.15, shrink=0.5,label='Shear-wave velocity (m/s)')
fig.savefig(figures_path+'inversion_slice_and_receptors.png')





filename_feather = data_path+'observed_data.feather'

obs_data = pd.read_feather(filename_feather)


depth_result_lst = []
velocity_result_lst = []
receptor_result_lst = []

depth_interval = -0.05

for dativ in obs_data.iterrows():

    depths = dativ[1]['depth'].tolist()[::-1]
    vels_mean = dativ[1]['velocity_s'].tolist()[::-1]

    depths_fine = []
    vels_fine = []

    # Iterate through depth intervals
    for j in range(len(depths) - 1):
        # Create a new depth array within the interval with finer sampling
        depths_interval = np.arange(depths[j], depths[j + 1], depth_interval)

        depths_fine.extend(depths_interval)
        # Repeat the velocity value within the interval
        vels_fine.extend([vels_mean[j]] * len(depths_interval))

    receptor_result_lst.append([lst_receptor[dativ[0]]]*len(vels_fine))
    depth_result_lst.append(depths_fine)
    velocity_result_lst.append(vels_fine)
    
receptor_result_lst = np.array([item for sublist in receptor_result_lst for item in sublist])
depth_result_lst = np.array([item for sublist in depth_result_lst for item in sublist])
velocity_result_lst = np.array([item for sublist in velocity_result_lst for item in sublist])

# We'll test this on the air temperature data from Texas
coordinates = (receptor_result_lst, depth_result_lst)
velocitys = velocity_result_lst
region = (0,100,-2,0)

spacing = (0.1,0.1)

# Now we can set up a gridder for the decimated data
grd = vd.KNeighbors().fit(coordinates, velocitys)

# The 'grid' method can still make a geographic grid if we pass in a projection
# function that converts lon, lat into the easting, northing coordinates that
# we used in 'fit'. This can be any function that takes lon, lat and returns x,
# y. In our case, it'll be the 'projection' variable that we created above.
# We'll also set the names of the grid dimensions and the name the data
# variable in our grid (the default would be 'scalars', which isn't very
# informative).
observed_grid = grd.grid(
    region=region,
    spacing=spacing,
    dims=["depth","receptor"],
    data_names="velocity",
)


fig,ax = plt.subplots(1, 1, figsize=(10, 5))

im = plt.imshow(observed_grid.velocity.data, cmap='cividis',extent=[0, 100, -2.0, 0],vmin=100,vmax=1000,aspect=25,origin='lower')

for idx,ix in enumerate(lst_receptor):
    ax.vlines(x=ix,ymin=-2.0,ymax=0,colors='k',lw=1.0,ls='--',alpha=0.7)
    ax.scatter(x=ix,y=0.05,color='k',marker='v')

ax.hlines(y=0,xmin=0,xmax=100,colors='k',lw=2,ls='-',alpha=1)
ax.set_xlabel('Distance (m)')
ax.grid(which='major', color='gray', linestyle='-', linewidth=0.5)
ax.grid(which='minor', color='gray', linestyle=':', linewidth=0.5, alpha=0.5)
ax.set_ylabel('Depth (m)')
plt.colorbar(im, ax=ax,fraction=0.15, shrink=0.5,label='Shear-wave velocity (m/s)')
fig.savefig(figures_path+'observed_slice_and_receptors.png')





deviation_grid = predicted_grid - observed_grid


fig,ax = plt.subplots(1, 1, figsize=(10, 5))

im = plt.imshow(deviation_grid.velocity.data, cmap='coolwarm_r',extent=[0, 100, -2.0, 0],vmin=-300,vmax=300,aspect=25,origin='lower')

for idx,ix in enumerate(lst_receptor):
    ax.vlines(x=ix,ymin=-2.0,ymax=0,colors='k',lw=1.0,ls='--',alpha=0.7)
    ax.scatter(x=ix,y=0.05,color='k',marker='v')

ax.hlines(y=0,xmin=0,xmax=100,colors='k',lw=2,ls='-',alpha=1)
ax.set_xlabel('Distance (m)')
ax.grid(which='major', color='gray', linestyle='-', linewidth=0.5)
ax.grid(which='minor', color='gray', linestyle=':', linewidth=0.5, alpha=0.5)
ax.set_ylabel('Depth (m)')
plt.colorbar(im, ax=ax,fraction=0.15, shrink=0.5,label='Deviation (m/s)')
fig.savefig(figures_path+'observed_slice_and_receptors.png')



