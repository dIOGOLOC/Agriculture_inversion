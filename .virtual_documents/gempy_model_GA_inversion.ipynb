# Import necessary libraries
import gempy as gp
import gempy_viewer as gpv
import glob
import numpy as np
import matplotlib.pyplot as plt
import matplotlib.colors as mcolors
import pandas as pd
import os
import verde as vd
from gempy_engine.core.data.centered_grid import CenteredGrid
import gemgis as gg
import pyvista as pv
from disba import PhaseDispersion,EigenFunction,PhaseSensitivity


data_path = 'data/'


glob.glob(data_path+'/*')





spacing = 50

west, east, south, north = 0, 100, 0, 100
region = (west, east, south, north)

# create the grid coordinates
X,Y = vd.grid_coordinates(region=region, spacing=spacing)


plt.figure(figsize=(6, 6))
ax = plt.subplot(111)
ax.scatter(X,Y,s=10,c='k',marker='.')

plt.xlabel("Easting")
plt.ylabel("Northing")


# Modelo 

# Function to estimate the P and S velocities and Poisson ration in function of initial density
def calculate_parameters(densities):
    '''
    Vp = (Density\310)**4
    Vs = Vp/sqrt(3)
    Poisson =  0.5 * (1 - (Vs ** 2 / Vp ** 2))
    '''
    
    vp = ((densities/310)**4)*0.3048 #
    vs = vp / np.sqrt(3)
    poisson_ratios = 0.5 * (1 - (vs ** 2 / vp ** 2))
    return vp,vs,poisson_ratios
    

# Function to generate a complete seismic model with random variation at each point
def create_complete_seismic_model(xi,yj,num_layers):
    '''
    xi: numpy.ndarray region [west-east points]) with a specific spacing (100 units in this case).
    yj: numpy.ndarray region [south-north points]) with a specific spacing (100 units in this case).
    num_layers: Number of layers of the model 
    '''
    
    # Initialize lists to store the variations of each parameter for each receiver
    x_l = []
    y_l = []
    depths = []
    vp = []
    vs = []
    densities = []
    poisson_ratios = []
    formation = []
    
    # Define variation ranges for each layer
    depth_ranges = [(-0.1, -0.5), (-0.5, -1.0), (-1.0, -1.5),(-1.5, -2.0)]
    density_ranges = [(1700, 1700), (1100, 1200), (1300, 1500),(2700, 2700)]
    
    for l in range(num_layers):
        x_l.append(xi)
        y_l.append(yj)
        
        # Generate random variations for each layer
        depths.append(np.random.uniform(*depth_ranges[l], size=xi.shape))
        densi = np.random.uniform(*density_ranges[l], size=yj.shape)
        densities.append(densi)
            
        # Calculate the parameters individually for each point
        vp.append(calculate_parameters(densi)[0])
        vs.append(calculate_parameters(densi)[1])
        poisson_ratios.append(calculate_parameters(densi)[2])

        formation.append('soil'+str(l+1))

    # last layer - ROCK
    x_l.append(xi)
    y_l.append(yj)
        
    # Generate random variations for each layer
    depths.append(np.random.uniform(*depth_ranges[-1], size=xi.shape))
    densi = np.random.uniform(*density_ranges[-1], size=yj.shape)
    densities.append(densi)
            
    # Calculate the parameters individually for each point
    vp.append(calculate_parameters(densi)[0])
    vs.append(calculate_parameters(densi)[1])
    poisson_ratios.append(calculate_parameters(densi)[2])    

    formation.append('basement')

    # Salvar modelo e dados
    model = {
        'xi':x_l,
        'yj':y_l,
        'vp': vp,
        'vs': vs,
        'depths': depths,
        'densities': densities,
        'poisson_ratios': poisson_ratios,
        'num_layers': num_layers,
        'formation': formation,
    }

    return model

# Função principal
num_layers = 3
model = create_complete_seismic_model(xi=X,yj=Y,num_layers=num_layers)


lst_soils = []
for l in range(num_layers+1):
    for k in range(len(model['xi'][l].ravel())):
            lst_soils.append({'X':model['xi'][l].ravel()[k], 'Y':model['yj'][l].ravel()[k], 'Z':model['depths'][l].ravel()[k], 'formation':model['formation'][l]})


soils_df = pd.DataFrame.from_dict(data=lst_soils)


soils_df


os.remove('data/points.csv')
soils_df.to_csv('data/points.csv', header=soils_df.columns, index=None, sep=',', mode='a')



lst_soils_orient = []
for l in range(num_layers+1):
    for k in range(len(model['xi'][l].ravel())):
            lst_soils_orient.append({'X':model['xi'][l].ravel()[k], 'Y':model['yj'][l].ravel()[k], 'Z':model['depths'][l].ravel()[k], 'formation':model['formation'][l],'Azimuth':0,'Dip':0,'Polarity':1})

soils_orient_df = pd.DataFrame.from_dict(data=lst_soils_orient)


os.remove('data/orientations.csv')
soils_orient_df.to_csv('data/orientations.csv', header=soils_orient_df.columns, index=None, sep=',', mode='a')



density_grid = np.concatenate(model['densities'])

depth_grid = np.concatenate(model['depths'])


# Plotar o perfil de densidade ajustado
fig, ax = plt.subplots(figsize=(12, 6))
cmap = plt.get_cmap("viridis")
norm = mcolors.Normalize(vmin=1100, vmax=2700)
extent = [0, 100, -1.5, 0]
cax = ax.imshow(density_grid, extent=extent, origin='upper', cmap=cmap, aspect='auto', norm=norm)

# Adicionar barra de cores
cbar = fig.colorbar(cax)
cbar.set_label('Densidade (kg/m³)', rotation=270, labelpad=15)

# Configurações do gráfico
ax.set_xlabel('Distância (m)')
ax.set_ylabel('Profundidade (m)')
ax.set_title('Perfil de densidade discretizado em função da profundidade e distância')

# Ajustar layout e salvar o gráfico
plt.tight_layout()
plt.savefig('perfil_densidade_discretizado.png', dpi=300)
plt.show()


# Create a GeoModel instance

grid_reso = 50
# Dados do modelo
extent = [0, 100, 0, 100, -1.5,0]  # [x_min, x_max, y_min, y_max, z_min, z_max]
resolution = [grid_reso,grid_reso,grid_reso]  # Resolução do grid


data = gp.create_geomodel(
    project_name='soil_horizontal',
    extent=extent,
    resolution=resolution,
    importer_helper=gp.data.ImporterHelper(
        path_to_orientations=data_path + "/orientations.csv",
        path_to_surface_points=data_path + "/points.csv"
    )
)



# Compute the geological mode
gp.compute_model(data)
geo_data = data


# Define structural groups and age/stratigraphic relationship
gp.map_stack_to_surfaces(
    gempy_model=geo_data,
    mapping_object={
        "Strat_Series1": ("soil3","soil2","soil1","basement")
    }
)


gp.compute_model(geo_data)


# Plot the result of the model in the x and y direction with data and without boundaries
gpv.plot_2d(geo_data, direction=['x'],ve=25, show_data=True, show_boundaries=True)


gpv.plot_2d(geo_data, cell_number=[-1], direction=['y'],ve=10, show=True,kwargs_regular_grid={'alpha': .5})


gpv.plot_2d(geo_data, direction=['y'],ve=50, show_data=True, show_boundaries=True)


gpv.plot_2d(geo_data, show_value=True, show_lith=False, show_scalar=True, cell_number=5)



gpv.plot_3d(geo_data,ve=10, show_scalar=False)


gempy_plot = gpv.plot_3d(
    model=geo_data,
    show_scalar=False,
    ve=10,
    show=False,
    image=False,
    transformed_data=False,
    kwargs_pyvista_bounds={
            'show_xlabels': False,
            'show_ylabels': False,
            'show_zlabels': True,
            'show_xaxis': False,
            'show_yaxis': False,
    },
    kwargs_plot_data={
            'arrow_size': 40.0
    }
)



gempy_plot.p.show()


gpv.plot_2d(geo_data, show_value=False, show_lith=False, show_scalar=False,legend=False, cell_number='mid')
plt.scatter(np.concatenate(model['xi']),np.concatenate(model['depths']),c=np.concatenate(model['densities']), s=100,cmap='hot')


lith_block = geo_data.solutions.raw_arrays.lith_block.reshape(grid_reso,grid_reso,grid_reso)
lith_block.shape


np.unique(geo_data.solutions.raw_arrays.lith_block)


im = plt.imshow(lith_block[1,:,:].T, cmap='viridis',extent=[0, 100, -1.5, 0],vmin=1,vmax=4,aspect=50,origin='lower')
plt.colorbar(im)





density_values = [np.mean(i) for i in model['densities']]
#density_values.append(2800.)


density_dict = {k: v for k,v in zip(np.unique(np.round(lith_block)), density_values)}
density_dict


density_block = gg.utils.assign_properties(lith_block=lith_block, property_dict=density_dict)


im = plt.imshow(density_block[3,:,:].T, cmap='viridis',extent=[0, 100, -2.0, 0],vmin=1100.0,vmax=2700.0,aspect=50,origin='lower')

plt.colorbar(im);


volume = pv.wrap(density_block)


volume.save('data/density_block.vtk',binary=True)





density_block.shape


lst_receptor = np.arange(1, density_block.shape[0]-1,5)


lst_receptor


for ix in lst_receptor:
    fig, (ax, ax1, ax2) = plt.subplots(1, 3, figsize=(15, 5))  # 1 linha e 3 colunas
    im = ax.imshow(density_block[ix,:,:].T, cmap='viridis',extent=[0, 100, -2.0, 0],vmin=1100.0,vmax=2700.0,aspect=50,origin='lower')
    ax.vlines(x=ix*2,ymin=-2.0,ymax=0,colors='k')
    
    ax1.plot(density_block[ix,ix,:].T,np.linspace(-2., 0,len(density_block[ix,ix,:].T)),'-')
    ax1.set_xlim(1100.0,2700.0)
    ax1.grid('on')
    # Identificar as densidades únicas
    valores_unicos = np.unique(density_block[ix,ix,:].T)
    
    # Calcular a espessura para cada camada
    vmodel = []
    for valor in valores_unicos:
        indices = np.where(density_block[ix,ix,:].T == valor)[0]
        profundidade_min = np.linspace(-2, 0,len(density_block[ix,ix,:].T))[indices].min()
        profundidade_max = np.linspace(-2, 0,len(density_block[ix,ix,:].T))[indices].max()
        espessura = profundidade_max - profundidade_min
    
        # thickness, Vp, Vs, density
        # km, km/s, km/s, g/cm3
        dens = valor
        vp, vs,_ = calculate_parameters(dens)
        
        vmodel.append([espessura/1000,vp/1000,vs/1000,dens/1000])
    
    velocity_model = np.array(vmodel)    

    # Periods must be sorted starting with low periods
    hz = np.linspace(10, 100.0, 100)
    
    t = 1/hz[::-1]
    
    # Fundamental mode corresponds to mode 0
    pd = PhaseDispersion(*velocity_model.T)

    cpr = pd(t, mode=0, wave="rayleigh")

    ax2.plot(1/cpr.period,cpr.velocity,'-k')
    ax2.grid('on')




