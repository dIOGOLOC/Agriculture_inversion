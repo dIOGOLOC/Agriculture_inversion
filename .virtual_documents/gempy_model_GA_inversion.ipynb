# Import necessary libraries
import gempy as gp
import gempy_viewer as gpv
import glob
import numpy as np
import matplotlib.pyplot as plt
import matplotlib.colors as mcolors
import pandas as pd


data_path = 'data/'


glob.glob(data_path+'/*')





# Modelo 

# Função para calcular a razão de Poisson com base nas velocidades S e densidade
def calculate_parameters(densities):
    vp = (densities/310)**4 #
    vs = vp / np.sqrt(3)
    poisson_ratios = 0.5 * (1 - (vs ** 2 / vp ** 2))
    return vp,vs,poisson_ratios

# Função para gerar um modelo sísmico completo com variação aleatória em cada receptor e gerar dados sísmicos sintéticos
def create_complete_seismic_model(num_points=100, num_layers=3):
    # Inicializar arrays para armazenar as variações de cada parâmetro para cada receptor
    depths = np.zeros((num_layers, num_points))
    vp = np.zeros((num_layers, num_points))
    vs = np.zeros((num_layers, num_points))
    xi = np.zeros((num_layers, num_points))
    yj = np.zeros((num_layers, num_points))
    densities = np.zeros((num_layers, num_points))
    poisson_ratios = np.zeros((num_layers, num_points))
    
    # Definir intervalos de variação para cada camada
    depth_ranges = [(0.1, 0.5), (0.5, 1.0), (1.0, 1.5)]
    density_ranges = [(2800, 2800), (1200, 1500), (1300, 1600.1)]  # Pequena variação para 1600 fixo
    
    # Gerar variações aleatórias para cada camada e receptor
    for i in range(num_layers):
        for j in range(num_points):
            depths[i, j] = np.random.uniform(*depth_ranges[i])*-1
            densities[i, j] = np.random.uniform(*density_ranges[i])
            
            # Calcular a razão de Poisson individualmente para cada ponto
            xi[i, j] = j*10
            yj[i, j] = j*10
            
            vp[i, j] = calculate_parameters(densities[i, j])[0]
            vs[i, j] = calculate_parameters(densities[i, j])[1]
            poisson_ratios[i, j] = calculate_parameters(densities[i, j])[2]


    # Salvar modelo e dados
    model = {
        'xi':xi,
        'yj':yj,
        'vp': vp,
        'vs': vs,
        'depths': depths,
        'densities': densities,
        'poisson_ratios': poisson_ratios,
        'num_layers': num_layers,
    }

    #with open('seismic_model.pkl', 'wb') as f:
        #pickle.dump(model, f)

    return model

# Função principal
num_points = 10      # Modificar conforme necessário
num_layers = 3      # Modificar conforme necessário
model = create_complete_seismic_model(num_points=num_points,num_layers=num_layers)


model['depths']


formation = ['soil'+str(k+1) for k in range(num_layers)]
depth_lst = [-0.5,-1.0,-1.5] 


lst_soils = []
for i in range(num_layers):
    for j in range(num_points):
        lst_soils.append({'X':model['xi'][i,j], 'Y':model['yj'][i,j], 'Z':model['depths'][i,j], 'formation':formation[i]})


lst_soils


soils_df = pd.DataFrame.from_dict(data=lst_soils)





soils_df.columns


soils_df.to_csv('data\points.csv', header=soils_df.columns, index=None, sep=',', mode='a')



density_grid = model['densities']
depth_grid = model['depths']


# Plotar o perfil de densidade ajustado
fig, ax = plt.subplots(figsize=(12, 6))
cmap = plt.get_cmap("viridis")
norm = mcolors.Normalize(vmin=density_grid.min(), vmax=density_grid.max())
extent = [0, 100, depth_grid.max(), 0]
cax = ax.imshow(density_grid, extent=extent, origin='upper', cmap=cmap, aspect='auto', norm=norm)

# Adicionar barra de cores
cbar = fig.colorbar(cax)
cbar.set_label('Densidade (kg/m³)', rotation=270, labelpad=15)

# Configurações do gráfico
ax.set_xlabel('Distância (m)')
ax.set_ylabel('Profundidade (m)')
ax.set_title('Perfil de densidade discretizado em função da profundidade e distância')

# Ajustar layout e salvar o gráfico
plt.tight_layout()
plt.savefig('perfil_densidade_discretizado.png', dpi=300)
plt.show()


# Create a GeoModel instance


# Dados do modelo
extent = [0, 100, 0, 100, -1.5,0]  # [x_min, x_max, y_min, y_max, z_min, z_max]
resolution = [10,10,10]  # Resolução do grid


data = gp.create_geomodel(
    project_name='soil_horizontal',
    extent=extent,
    resolution=resolution,
    importer_helper=gp.data.ImporterHelper(
        path_to_orientations=data_path + "/orientations.csv",
        path_to_surface_points=data_path + "/points.csv"
    )
)



# Compute the geological mode
gp.compute_model(data)
geo_data = data


geo_data.structural_frame


geo_data.structural_frame.structural_elements


# Define structural groups and age/stratigraphic relationship
gp.map_stack_to_surfaces(
    gempy_model=geo_data,
    mapping_object={
        "Strat_Series1": ("soil3","soil2", "soil1")
    }
)


geo_data.interpolation_options


gp.compute_model(geo_data)


# Plot the result of the model in the x and y direction with data and without boundaries
gpv.plot_2d(geo_data, direction=['x'],ve=100, show_data=True, show_boundaries=False)


gpv.plot_2d(geo_data, direction=['y'],ve=100, show_data=True, show_boundaries=True)


gpv.plot_3d(geo_data,ve=100)


# 2D visualization:
gpv.plot_2d(geo_data,ve=100, cell_number=[5])


geo_data.solutions.raw_arrays.lith_block


geo_data.grid.regular_grid.values


geo_data.solutions.raw_arrays.scalar_field_matrix[0]


gpv.plot_3d(geo_data,ve=100)


# 2D visualization:
gpv.plot_2d(geo_data, cell_number=[5])


gpv.plot_2d(geo_data, show_value=True, show_lith=False, show_scalar=True, cell_number=25)
plt.scatter(X, Y, s=1)



Y


# Set up plotter
p3d = gpv.plot_3d(geo_data, notebook=True)



gravity_gradient.shape
