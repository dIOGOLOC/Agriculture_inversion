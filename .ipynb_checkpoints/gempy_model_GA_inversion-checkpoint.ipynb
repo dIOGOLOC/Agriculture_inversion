{
 "cells": [
  {
   "cell_type": "code",
   "execution_count": 1,
   "id": "b2e37adc-a516-4f7b-b60f-ea45c6ad1c31",
   "metadata": {},
   "outputs": [
    {
     "name": "stdout",
     "output_type": "stream",
     "text": [
      "Setting Backend To: AvailableBackends.numpy\n"
     ]
    }
   ],
   "source": [
    "# Import necessary libraries\n",
    "import gempy as gp\n",
    "import gempy_viewer as gpv\n",
    "import glob\n",
    "import numpy as np\n",
    "import matplotlib.pyplot as plt\n",
    "import matplotlib.colors as mcolors\n",
    "import pandas as pd"
   ]
  },
  {
   "cell_type": "code",
   "execution_count": 2,
   "id": "db030e0d-0864-4d89-bdc4-872c32982f39",
   "metadata": {},
   "outputs": [],
   "source": [
    "data_path = 'data/'"
   ]
  },
  {
   "cell_type": "code",
   "execution_count": 3,
   "id": "3ed71668-3a85-493c-a3da-e4798759e7a8",
   "metadata": {},
   "outputs": [
    {
     "data": {
      "text/plain": [
       "['data/points.csv', 'data/orientations.csv']"
      ]
     },
     "execution_count": 3,
     "metadata": {},
     "output_type": "execute_result"
    }
   ],
   "source": [
    "glob.glob(data_path+'/*')"
   ]
  },
  {
   "cell_type": "markdown",
   "id": "fa1926b5-4a46-4fe2-8815-5eb0e93e0624",
   "metadata": {},
   "source": [
    "$V_p = \\left( \\frac{\\rho}{310} \\right)^4$\n"
   ]
  },
  {
   "cell_type": "code",
   "execution_count": 45,
   "id": "0c8c7858-0e57-4c1b-b9a3-ccce65b5e0c5",
   "metadata": {},
   "outputs": [],
   "source": [
    "# Modelo \n",
    "\n",
    "# Função para calcular a razão de Poisson com base nas velocidades S e densidade\n",
    "def calculate_parameters(densities):\n",
    "    vp = (densities/310)**4 #\n",
    "    vs = vp / np.sqrt(3)\n",
    "    poisson_ratios = 0.5 * (1 - (vs ** 2 / vp ** 2))\n",
    "    return vp,vs,poisson_ratios\n",
    "\n",
    "# Função para gerar um modelo sísmico completo com variação aleatória em cada receptor e gerar dados sísmicos sintéticos\n",
    "def create_complete_seismic_model(num_points=100, num_layers=3):\n",
    "    # Inicializar arrays para armazenar as variações de cada parâmetro para cada receptor\n",
    "    depths = np.zeros((num_layers, num_points))\n",
    "    vp = np.zeros((num_layers, num_points))\n",
    "    vs = np.zeros((num_layers, num_points))\n",
    "    xi = np.zeros((num_layers, num_points))\n",
    "    yj = np.zeros((num_layers, num_points))\n",
    "    densities = np.zeros((num_layers, num_points))\n",
    "    poisson_ratios = np.zeros((num_layers, num_points))\n",
    "    \n",
    "    # Definir intervalos de variação para cada camada\n",
    "    depth_ranges = [(0.1, 0.5), (0.5, 1.0), (1.0, 1.5)]\n",
    "    density_ranges = [(2800, 2800), (1200, 1500), (1300, 1600.1)]  # Pequena variação para 1600 fixo\n",
    "    \n",
    "    # Gerar variações aleatórias para cada camada e receptor\n",
    "    for i in range(num_layers):\n",
    "        for j in range(num_points):\n",
    "            depths[i, j] = np.random.uniform(*depth_ranges[i])*-1\n",
    "            densities[i, j] = np.random.uniform(*density_ranges[i])\n",
    "            \n",
    "            # Calcular a razão de Poisson individualmente para cada ponto\n",
    "            xi[i, j] = j*10\n",
    "            yj[i, j] = j*10\n",
    "            \n",
    "            vp[i, j] = calculate_parameters(densities[i, j])[0]\n",
    "            vs[i, j] = calculate_parameters(densities[i, j])[1]\n",
    "            poisson_ratios[i, j] = calculate_parameters(densities[i, j])[2]\n",
    "\n",
    "\n",
    "    # Salvar modelo e dados\n",
    "    model = {\n",
    "        'xi':xi,\n",
    "        'yj':yj,\n",
    "        'vp': vp,\n",
    "        'vs': vs,\n",
    "        'depths': depths,\n",
    "        'densities': densities,\n",
    "        'poisson_ratios': poisson_ratios,\n",
    "        'num_layers': num_layers,\n",
    "    }\n",
    "\n",
    "    #with open('seismic_model.pkl', 'wb') as f:\n",
    "        #pickle.dump(model, f)\n",
    "\n",
    "    return model\n",
    "\n",
    "# Função principal\n",
    "num_points = 10      # Modificar conforme necessário\n",
    "num_layers = 3      # Modificar conforme necessário\n",
    "model = create_complete_seismic_model(num_points=num_points,num_layers=num_layers)"
   ]
  },
  {
   "cell_type": "code",
   "execution_count": 46,
   "id": "2f6972cd-a62b-469b-8722-6d4494835081",
   "metadata": {},
   "outputs": [
    {
     "data": {
      "text/plain": [
       "array([[-0.22726076, -0.34973545, -0.39932146, -0.42499452, -0.16746659,\n",
       "        -0.38375875, -0.42073144, -0.25518962, -0.15333821, -0.47481975],\n",
       "       [-0.91562159, -0.55138009, -0.96294025, -0.77600833, -0.87865682,\n",
       "        -0.60066758, -0.95869208, -0.78425633, -0.50066307, -0.96512101],\n",
       "       [-1.34445628, -1.46923383, -1.10225965, -1.04810427, -1.0829608 ,\n",
       "        -1.47435118, -1.31690334, -1.35979448, -1.28436046, -1.27189228]])"
      ]
     },
     "execution_count": 46,
     "metadata": {},
     "output_type": "execute_result"
    }
   ],
   "source": [
    "model['depths']"
   ]
  },
  {
   "cell_type": "code",
   "execution_count": 47,
   "id": "8daa8bdc-2b74-46bd-92e4-2cdb905cb94a",
   "metadata": {},
   "outputs": [],
   "source": [
    "formation = ['soil'+str(k+1) for k in range(num_layers)]\n",
    "depth_lst = [-0.5,-1.0,-1.5] "
   ]
  },
  {
   "cell_type": "code",
   "execution_count": 48,
   "id": "d5973747-e4cd-48c0-b7cf-8b27a81e6d0c",
   "metadata": {},
   "outputs": [],
   "source": [
    "lst_soils = []\n",
    "for i in range(num_layers):\n",
    "    for j in range(num_points):\n",
    "        lst_soils.append({'X':model['xi'][i,j], 'Y':model['yj'][i,j], 'Z':model['depths'][i,j], 'formation':formation[i]})"
   ]
  },
  {
   "cell_type": "code",
   "execution_count": 49,
   "id": "7c17e8a5-acc6-43bb-bd00-2f73d2cee836",
   "metadata": {},
   "outputs": [
    {
     "data": {
      "text/plain": [
       "[{'X': 0.0, 'Y': 0.0, 'Z': -0.22726076311650734, 'formation': 'soil1'},\n",
       " {'X': 10.0, 'Y': 10.0, 'Z': -0.34973545145972823, 'formation': 'soil1'},\n",
       " {'X': 20.0, 'Y': 20.0, 'Z': -0.39932146108228994, 'formation': 'soil1'},\n",
       " {'X': 30.0, 'Y': 30.0, 'Z': -0.42499452311162, 'formation': 'soil1'},\n",
       " {'X': 40.0, 'Y': 40.0, 'Z': -0.16746659098657052, 'formation': 'soil1'},\n",
       " {'X': 50.0, 'Y': 50.0, 'Z': -0.38375875140917703, 'formation': 'soil1'},\n",
       " {'X': 60.0, 'Y': 60.0, 'Z': -0.42073144274862107, 'formation': 'soil1'},\n",
       " {'X': 70.0, 'Y': 70.0, 'Z': -0.25518962151700986, 'formation': 'soil1'},\n",
       " {'X': 80.0, 'Y': 80.0, 'Z': -0.15333821177882154, 'formation': 'soil1'},\n",
       " {'X': 90.0, 'Y': 90.0, 'Z': -0.4748197470721579, 'formation': 'soil1'},\n",
       " {'X': 0.0, 'Y': 0.0, 'Z': -0.9156215910447416, 'formation': 'soil2'},\n",
       " {'X': 10.0, 'Y': 10.0, 'Z': -0.5513800908631183, 'formation': 'soil2'},\n",
       " {'X': 20.0, 'Y': 20.0, 'Z': -0.9629402458878693, 'formation': 'soil2'},\n",
       " {'X': 30.0, 'Y': 30.0, 'Z': -0.776008333309073, 'formation': 'soil2'},\n",
       " {'X': 40.0, 'Y': 40.0, 'Z': -0.8786568192649324, 'formation': 'soil2'},\n",
       " {'X': 50.0, 'Y': 50.0, 'Z': -0.6006675761256697, 'formation': 'soil2'},\n",
       " {'X': 60.0, 'Y': 60.0, 'Z': -0.9586920819761144, 'formation': 'soil2'},\n",
       " {'X': 70.0, 'Y': 70.0, 'Z': -0.7842563283002828, 'formation': 'soil2'},\n",
       " {'X': 80.0, 'Y': 80.0, 'Z': -0.5006630683453517, 'formation': 'soil2'},\n",
       " {'X': 90.0, 'Y': 90.0, 'Z': -0.9651210056835166, 'formation': 'soil2'},\n",
       " {'X': 0.0, 'Y': 0.0, 'Z': -1.344456279307384, 'formation': 'soil3'},\n",
       " {'X': 10.0, 'Y': 10.0, 'Z': -1.4692338310549058, 'formation': 'soil3'},\n",
       " {'X': 20.0, 'Y': 20.0, 'Z': -1.1022596487342304, 'formation': 'soil3'},\n",
       " {'X': 30.0, 'Y': 30.0, 'Z': -1.048104271181841, 'formation': 'soil3'},\n",
       " {'X': 40.0, 'Y': 40.0, 'Z': -1.0829607997297557, 'formation': 'soil3'},\n",
       " {'X': 50.0, 'Y': 50.0, 'Z': -1.4743511839204468, 'formation': 'soil3'},\n",
       " {'X': 60.0, 'Y': 60.0, 'Z': -1.316903341723063, 'formation': 'soil3'},\n",
       " {'X': 70.0, 'Y': 70.0, 'Z': -1.359794482001771, 'formation': 'soil3'},\n",
       " {'X': 80.0, 'Y': 80.0, 'Z': -1.2843604583472639, 'formation': 'soil3'},\n",
       " {'X': 90.0, 'Y': 90.0, 'Z': -1.2718922831728876, 'formation': 'soil3'}]"
      ]
     },
     "execution_count": 49,
     "metadata": {},
     "output_type": "execute_result"
    }
   ],
   "source": [
    "lst_soils"
   ]
  },
  {
   "cell_type": "code",
   "execution_count": 50,
   "id": "5d5c2d0f-8081-4b82-b244-918a64aba73a",
   "metadata": {},
   "outputs": [],
   "source": [
    "soils_df = pd.DataFrame.from_dict(data=lst_soils)"
   ]
  },
  {
   "cell_type": "code",
   "execution_count": 53,
   "id": "1df2c6d3-7fe6-460c-a0e5-1f9c95737407",
   "metadata": {},
   "outputs": [
    {
     "data": {
      "text/html": [
       "<div>\n",
       "<style scoped>\n",
       "    .dataframe tbody tr th:only-of-type {\n",
       "        vertical-align: middle;\n",
       "    }\n",
       "\n",
       "    .dataframe tbody tr th {\n",
       "        vertical-align: top;\n",
       "    }\n",
       "\n",
       "    .dataframe thead th {\n",
       "        text-align: right;\n",
       "    }\n",
       "</style>\n",
       "<table border=\"1\" class=\"dataframe\">\n",
       "  <thead>\n",
       "    <tr style=\"text-align: right;\">\n",
       "      <th></th>\n",
       "      <th>X</th>\n",
       "      <th>Y</th>\n",
       "      <th>Z</th>\n",
       "      <th>formation</th>\n",
       "    </tr>\n",
       "  </thead>\n",
       "  <tbody>\n",
       "    <tr>\n",
       "      <th>0</th>\n",
       "      <td>0.0</td>\n",
       "      <td>0.0</td>\n",
       "      <td>-0.227261</td>\n",
       "      <td>soil1</td>\n",
       "    </tr>\n",
       "    <tr>\n",
       "      <th>1</th>\n",
       "      <td>10.0</td>\n",
       "      <td>10.0</td>\n",
       "      <td>-0.349735</td>\n",
       "      <td>soil1</td>\n",
       "    </tr>\n",
       "    <tr>\n",
       "      <th>2</th>\n",
       "      <td>20.0</td>\n",
       "      <td>20.0</td>\n",
       "      <td>-0.399321</td>\n",
       "      <td>soil1</td>\n",
       "    </tr>\n",
       "    <tr>\n",
       "      <th>3</th>\n",
       "      <td>30.0</td>\n",
       "      <td>30.0</td>\n",
       "      <td>-0.424995</td>\n",
       "      <td>soil1</td>\n",
       "    </tr>\n",
       "    <tr>\n",
       "      <th>4</th>\n",
       "      <td>40.0</td>\n",
       "      <td>40.0</td>\n",
       "      <td>-0.167467</td>\n",
       "      <td>soil1</td>\n",
       "    </tr>\n",
       "    <tr>\n",
       "      <th>5</th>\n",
       "      <td>50.0</td>\n",
       "      <td>50.0</td>\n",
       "      <td>-0.383759</td>\n",
       "      <td>soil1</td>\n",
       "    </tr>\n",
       "    <tr>\n",
       "      <th>6</th>\n",
       "      <td>60.0</td>\n",
       "      <td>60.0</td>\n",
       "      <td>-0.420731</td>\n",
       "      <td>soil1</td>\n",
       "    </tr>\n",
       "    <tr>\n",
       "      <th>7</th>\n",
       "      <td>70.0</td>\n",
       "      <td>70.0</td>\n",
       "      <td>-0.255190</td>\n",
       "      <td>soil1</td>\n",
       "    </tr>\n",
       "    <tr>\n",
       "      <th>8</th>\n",
       "      <td>80.0</td>\n",
       "      <td>80.0</td>\n",
       "      <td>-0.153338</td>\n",
       "      <td>soil1</td>\n",
       "    </tr>\n",
       "    <tr>\n",
       "      <th>9</th>\n",
       "      <td>90.0</td>\n",
       "      <td>90.0</td>\n",
       "      <td>-0.474820</td>\n",
       "      <td>soil1</td>\n",
       "    </tr>\n",
       "    <tr>\n",
       "      <th>10</th>\n",
       "      <td>0.0</td>\n",
       "      <td>0.0</td>\n",
       "      <td>-0.915622</td>\n",
       "      <td>soil2</td>\n",
       "    </tr>\n",
       "    <tr>\n",
       "      <th>11</th>\n",
       "      <td>10.0</td>\n",
       "      <td>10.0</td>\n",
       "      <td>-0.551380</td>\n",
       "      <td>soil2</td>\n",
       "    </tr>\n",
       "    <tr>\n",
       "      <th>12</th>\n",
       "      <td>20.0</td>\n",
       "      <td>20.0</td>\n",
       "      <td>-0.962940</td>\n",
       "      <td>soil2</td>\n",
       "    </tr>\n",
       "    <tr>\n",
       "      <th>13</th>\n",
       "      <td>30.0</td>\n",
       "      <td>30.0</td>\n",
       "      <td>-0.776008</td>\n",
       "      <td>soil2</td>\n",
       "    </tr>\n",
       "    <tr>\n",
       "      <th>14</th>\n",
       "      <td>40.0</td>\n",
       "      <td>40.0</td>\n",
       "      <td>-0.878657</td>\n",
       "      <td>soil2</td>\n",
       "    </tr>\n",
       "    <tr>\n",
       "      <th>15</th>\n",
       "      <td>50.0</td>\n",
       "      <td>50.0</td>\n",
       "      <td>-0.600668</td>\n",
       "      <td>soil2</td>\n",
       "    </tr>\n",
       "    <tr>\n",
       "      <th>16</th>\n",
       "      <td>60.0</td>\n",
       "      <td>60.0</td>\n",
       "      <td>-0.958692</td>\n",
       "      <td>soil2</td>\n",
       "    </tr>\n",
       "    <tr>\n",
       "      <th>17</th>\n",
       "      <td>70.0</td>\n",
       "      <td>70.0</td>\n",
       "      <td>-0.784256</td>\n",
       "      <td>soil2</td>\n",
       "    </tr>\n",
       "    <tr>\n",
       "      <th>18</th>\n",
       "      <td>80.0</td>\n",
       "      <td>80.0</td>\n",
       "      <td>-0.500663</td>\n",
       "      <td>soil2</td>\n",
       "    </tr>\n",
       "    <tr>\n",
       "      <th>19</th>\n",
       "      <td>90.0</td>\n",
       "      <td>90.0</td>\n",
       "      <td>-0.965121</td>\n",
       "      <td>soil2</td>\n",
       "    </tr>\n",
       "    <tr>\n",
       "      <th>20</th>\n",
       "      <td>0.0</td>\n",
       "      <td>0.0</td>\n",
       "      <td>-1.344456</td>\n",
       "      <td>soil3</td>\n",
       "    </tr>\n",
       "    <tr>\n",
       "      <th>21</th>\n",
       "      <td>10.0</td>\n",
       "      <td>10.0</td>\n",
       "      <td>-1.469234</td>\n",
       "      <td>soil3</td>\n",
       "    </tr>\n",
       "    <tr>\n",
       "      <th>22</th>\n",
       "      <td>20.0</td>\n",
       "      <td>20.0</td>\n",
       "      <td>-1.102260</td>\n",
       "      <td>soil3</td>\n",
       "    </tr>\n",
       "    <tr>\n",
       "      <th>23</th>\n",
       "      <td>30.0</td>\n",
       "      <td>30.0</td>\n",
       "      <td>-1.048104</td>\n",
       "      <td>soil3</td>\n",
       "    </tr>\n",
       "    <tr>\n",
       "      <th>24</th>\n",
       "      <td>40.0</td>\n",
       "      <td>40.0</td>\n",
       "      <td>-1.082961</td>\n",
       "      <td>soil3</td>\n",
       "    </tr>\n",
       "    <tr>\n",
       "      <th>25</th>\n",
       "      <td>50.0</td>\n",
       "      <td>50.0</td>\n",
       "      <td>-1.474351</td>\n",
       "      <td>soil3</td>\n",
       "    </tr>\n",
       "    <tr>\n",
       "      <th>26</th>\n",
       "      <td>60.0</td>\n",
       "      <td>60.0</td>\n",
       "      <td>-1.316903</td>\n",
       "      <td>soil3</td>\n",
       "    </tr>\n",
       "    <tr>\n",
       "      <th>27</th>\n",
       "      <td>70.0</td>\n",
       "      <td>70.0</td>\n",
       "      <td>-1.359794</td>\n",
       "      <td>soil3</td>\n",
       "    </tr>\n",
       "    <tr>\n",
       "      <th>28</th>\n",
       "      <td>80.0</td>\n",
       "      <td>80.0</td>\n",
       "      <td>-1.284360</td>\n",
       "      <td>soil3</td>\n",
       "    </tr>\n",
       "    <tr>\n",
       "      <th>29</th>\n",
       "      <td>90.0</td>\n",
       "      <td>90.0</td>\n",
       "      <td>-1.271892</td>\n",
       "      <td>soil3</td>\n",
       "    </tr>\n",
       "  </tbody>\n",
       "</table>\n",
       "</div>"
      ],
      "text/plain": [
       "       X     Y         Z formation\n",
       "0    0.0   0.0 -0.227261     soil1\n",
       "1   10.0  10.0 -0.349735     soil1\n",
       "2   20.0  20.0 -0.399321     soil1\n",
       "3   30.0  30.0 -0.424995     soil1\n",
       "4   40.0  40.0 -0.167467     soil1\n",
       "5   50.0  50.0 -0.383759     soil1\n",
       "6   60.0  60.0 -0.420731     soil1\n",
       "7   70.0  70.0 -0.255190     soil1\n",
       "8   80.0  80.0 -0.153338     soil1\n",
       "9   90.0  90.0 -0.474820     soil1\n",
       "10   0.0   0.0 -0.915622     soil2\n",
       "11  10.0  10.0 -0.551380     soil2\n",
       "12  20.0  20.0 -0.962940     soil2\n",
       "13  30.0  30.0 -0.776008     soil2\n",
       "14  40.0  40.0 -0.878657     soil2\n",
       "15  50.0  50.0 -0.600668     soil2\n",
       "16  60.0  60.0 -0.958692     soil2\n",
       "17  70.0  70.0 -0.784256     soil2\n",
       "18  80.0  80.0 -0.500663     soil2\n",
       "19  90.0  90.0 -0.965121     soil2\n",
       "20   0.0   0.0 -1.344456     soil3\n",
       "21  10.0  10.0 -1.469234     soil3\n",
       "22  20.0  20.0 -1.102260     soil3\n",
       "23  30.0  30.0 -1.048104     soil3\n",
       "24  40.0  40.0 -1.082961     soil3\n",
       "25  50.0  50.0 -1.474351     soil3\n",
       "26  60.0  60.0 -1.316903     soil3\n",
       "27  70.0  70.0 -1.359794     soil3\n",
       "28  80.0  80.0 -1.284360     soil3\n",
       "29  90.0  90.0 -1.271892     soil3"
      ]
     },
     "execution_count": 53,
     "metadata": {},
     "output_type": "execute_result"
    }
   ],
   "source": [
    "soils_df"
   ]
  },
  {
   "cell_type": "code",
   "execution_count": 54,
   "id": "b68c0793-a59e-4602-8eae-696ccf8ac225",
   "metadata": {},
   "outputs": [
    {
     "data": {
      "text/plain": [
       "Index(['X', 'Y', 'Z', 'formation'], dtype='object')"
      ]
     },
     "execution_count": 54,
     "metadata": {},
     "output_type": "execute_result"
    }
   ],
   "source": [
    "soils_df.columns"
   ]
  },
  {
   "cell_type": "code",
   "execution_count": 56,
   "id": "d51937fd-08af-4481-83a2-9e840b7e3582",
   "metadata": {},
   "outputs": [],
   "source": [
    "soils_df.to_csv('data/points.csv', header=soils_df.columns, index=None, sep=',', mode='a')\n"
   ]
  },
  {
   "cell_type": "code",
   "execution_count": 57,
   "id": "eadbafac-42d6-4bb7-8b76-0253f70af272",
   "metadata": {},
   "outputs": [],
   "source": [
    "density_grid = model['densities']\n",
    "depth_grid = model['depths']"
   ]
  },
  {
   "cell_type": "code",
   "execution_count": 58,
   "id": "6af607b1-b7d7-4766-87e7-c51ea01b222b",
   "metadata": {},
   "outputs": [
    {
     "data": {
      "image/png": "[encoded data removed]",
      "text/plain": [
       "<Figure size 1200x600 with 2 Axes>"
      ]
     },
     "metadata": {},
     "output_type": "display_data"
    }
   ],
   "source": [
    "# Plotar o perfil de densidade ajustado\n",
    "fig, ax = plt.subplots(figsize=(12, 6))\n",
    "cmap = plt.get_cmap(\"viridis\")\n",
    "norm = mcolors.Normalize(vmin=density_grid.min(), vmax=density_grid.max())\n",
    "extent = [0, 100, depth_grid.max(), 0]\n",
    "cax = ax.imshow(density_grid, extent=extent, origin='upper', cmap=cmap, aspect='auto', norm=norm)\n",
    "\n",
    "# Adicionar barra de cores\n",
    "cbar = fig.colorbar(cax)\n",
    "cbar.set_label('Densidade (kg/m³)', rotation=270, labelpad=15)\n",
    "\n",
    "# Configurações do gráfico\n",
    "ax.set_xlabel('Distância (m)')\n",
    "ax.set_ylabel('Profundidade (m)')\n",
    "ax.set_title('Perfil de densidade discretizado em função da profundidade e distância')\n",
    "\n",
    "# Ajustar layout e salvar o gráfico\n",
    "plt.tight_layout()\n",
    "plt.savefig('perfil_densidade_discretizado.png', dpi=300)\n",
    "plt.show()"
   ]
  },
  {
   "cell_type": "code",
   "execution_count": 69,
   "id": "20e06525-a6ae-4e44-b6ed-674816cb78ba",
   "metadata": {},
   "outputs": [],
   "source": [
    "# Create a GeoModel instance\n",
    "\n",
    "\n",
    "# Dados do modelo\n",
    "extent = [0, 100, 0, 100, -1.5,0]  # [x_min, x_max, y_min, y_max, z_min, z_max]\n",
    "resolution = [50,50,50]  # Resolução do grid\n",
    "\n",
    "\n",
    "data = gp.create_geomodel(\n",
    "    project_name='soil_horizontal',\n",
    "    extent=extent,\n",
    "    resolution=resolution,\n",
    "    importer_helper=gp.data.ImporterHelper(\n",
    "        path_to_orientations=data_path + \"/orientations.csv\",\n",
    "        path_to_surface_points=data_path + \"/points.csv\"\n",
    "    )\n",
    ")\n"
   ]
  },
  {
   "cell_type": "code",
   "execution_count": 70,
   "id": "5cbe8f3f-df46-4015-9b83-1786f87c1811",
   "metadata": {},
   "outputs": [
    {
     "name": "stdout",
     "output_type": "stream",
     "text": [
      "Setting Backend To: AvailableBackends.numpy\n",
      "Chunking done: 10 chunks\n"
     ]
    }
   ],
   "source": [
    "# Compute the geological mode\n",
    "gp.compute_model(data)\n",
    "geo_data = data"
   ]
  },
  {
   "cell_type": "code",
   "execution_count": 71,
   "id": "84b60f19-3a1e-4093-9c83-d27550c1a457",
   "metadata": {},
   "outputs": [
    {
     "data": {
      "text/html": [
       "\n",
       "        <table>\n",
       "          <tr><td>Structural Groups:</td><td>\n",
       "    <table style=\"border-left:1.2px solid black;>\n",
       "      <tr><th colspan=\"2\"><b>StructuralGroup:</b></th></tr>\n",
       "      <tr><td>Name:</td><td>default_formation</td></tr>\n",
       "      <tr><td>Structural Relation:</td><td>StackRelationType.ERODE</td></tr>\n",
       "      <tr><td>Elements:</td><td>\n",
       "    <table width=\"50%\" style=\"border-left:15px solid #015482;\">\n",
       "      <tr><th colspan=\"2\"><b>StructuralElement:</b></th></tr>\n",
       "      <tr><td>Name:</td><td>soil1</td></tr>\n",
       "    </table>\n",
       "        <br>\n",
       "    <table width=\"50%\" style=\"border-left:15px solid #9f0052;\">\n",
       "      <tr><th colspan=\"2\"><b>StructuralElement:</b></th></tr>\n",
       "      <tr><td>Name:</td><td>soil2</td></tr>\n",
       "    </table>\n",
       "        <br>\n",
       "    <table width=\"50%\" style=\"border-left:15px solid #ffbe00;\">\n",
       "      <tr><th colspan=\"2\"><b>StructuralElement:</b></th></tr>\n",
       "      <tr><td>Name:</td><td>soil3</td></tr>\n",
       "    </table>\n",
       "        </td></tr>\n",
       "    </table>\n",
       "        </td></tr>\n",
       "          <tr><td>Fault Relations:</td><td><table style=\"border-collapse: collapse; table-layout: fixed;\"><th></th><th style=\"transform: rotate(-35deg); height:150px; vertical-align: bottom; text-align: center;\">default_fo...</th><tr><th>default_formation</th><td style=\"background-color: #FFB6C1; width: 20px; height: 20px; border: 1px solid black;\"></td></tr></table></td></tr>\n",
       "          <tr><td></td><td>\n",
       "        <table>\n",
       "          <tr>\n",
       "            <td><div style=\"display: inline-block; background-color: #527682; width: 20px; height: 20px; border: 1px solid black;\"></div> True</td>\n",
       "            <td><div style=\"display: inline-block; background-color: #FFB6C1; width: 20px; height: 20px; border: 1px solid black;\"></div> False</td>\n",
       "          </tr>\n",
       "        </table>\n",
       "        </td></tr>\n",
       "        </table>\n",
       "        "
      ],
      "text/plain": [
       "StructuralFrame(\n",
       "\tstructural_groups=[\n",
       "StructuralGroup(\n",
       "\tname=default_formation,\n",
       "\tstructural_relation=StackRelationType.ERODE,\n",
       "\telements=[\n",
       "Element(\n",
       "\tname=soil1,\n",
       "\tcolor=\u001b[38;2;1;84;130m#015482\u001b[0m,\n",
       "\tis_active=True\n",
       "),\n",
       "Element(\n",
       "\tname=soil2,\n",
       "\tcolor=\u001b[38;2;159;0;82m#9f0052\u001b[0m,\n",
       "\tis_active=True\n",
       "),\n",
       "Element(\n",
       "\tname=soil3,\n",
       "\tcolor=\u001b[38;2;255;190;0m#ffbe00\u001b[0m,\n",
       "\tis_active=True\n",
       ")\n",
       "]\n",
       ")\n",
       "],\n",
       "\tfault_relations=\n",
       "[[False]],"
      ]
     },
     "execution_count": 71,
     "metadata": {},
     "output_type": "execute_result"
    }
   ],
   "source": [
    "geo_data.structural_frame"
   ]
  },
  {
   "cell_type": "code",
   "execution_count": 72,
   "id": "d3bf2f00-9fd3-47e3-8ada-071d98609edb",
   "metadata": {},
   "outputs": [
    {
     "data": {
      "text/plain": [
       "[Element(\n",
       " \tname=soil1,\n",
       " \tcolor=\u001b[38;2;1;84;130m#015482\u001b[0m,\n",
       " \tis_active=True\n",
       " ),\n",
       " Element(\n",
       " \tname=soil2,\n",
       " \tcolor=\u001b[38;2;159;0;82m#9f0052\u001b[0m,\n",
       " \tis_active=True\n",
       " ),\n",
       " Element(\n",
       " \tname=soil3,\n",
       " \tcolor=\u001b[38;2;255;190;0m#ffbe00\u001b[0m,\n",
       " \tis_active=True\n",
       " ),\n",
       " Element(\n",
       " \tname=basement,\n",
       " \tcolor=\u001b[38;2;114;143;2m#728f02\u001b[0m,\n",
       " \tis_active=True\n",
       " )]"
      ]
     },
     "execution_count": 72,
     "metadata": {},
     "output_type": "execute_result"
    }
   ],
   "source": [
    "geo_data.structural_frame.structural_elements"
   ]
  },
  {
   "cell_type": "code",
   "execution_count": 73,
   "id": "d932cae3-b68e-4a15-8f07-ea3fe5ca3bec",
   "metadata": {},
   "outputs": [
    {
     "data": {
      "text/html": [
       "\n",
       "        <table>\n",
       "          <tr><td>Structural Groups:</td><td>\n",
       "    <table style=\"border-left:1.2px solid black;>\n",
       "      <tr><th colspan=\"2\"><b>StructuralGroup:</b></th></tr>\n",
       "      <tr><td>Name:</td><td>Strat_Series1</td></tr>\n",
       "      <tr><td>Structural Relation:</td><td>StackRelationType.ERODE</td></tr>\n",
       "      <tr><td>Elements:</td><td>\n",
       "    <table width=\"50%\" style=\"border-left:15px solid #ffbe00;\">\n",
       "      <tr><th colspan=\"2\"><b>StructuralElement:</b></th></tr>\n",
       "      <tr><td>Name:</td><td>soil3</td></tr>\n",
       "    </table>\n",
       "        <br>\n",
       "    <table width=\"50%\" style=\"border-left:15px solid #9f0052;\">\n",
       "      <tr><th colspan=\"2\"><b>StructuralElement:</b></th></tr>\n",
       "      <tr><td>Name:</td><td>soil2</td></tr>\n",
       "    </table>\n",
       "        <br>\n",
       "    <table width=\"50%\" style=\"border-left:15px solid #015482;\">\n",
       "      <tr><th colspan=\"2\"><b>StructuralElement:</b></th></tr>\n",
       "      <tr><td>Name:</td><td>soil1</td></tr>\n",
       "    </table>\n",
       "        </td></tr>\n",
       "    </table>\n",
       "        </td></tr>\n",
       "          <tr><td>Fault Relations:</td><td><table style=\"border-collapse: collapse; table-layout: fixed;\"><th></th><th style=\"transform: rotate(-35deg); height:150px; vertical-align: bottom; text-align: center;\">Strat_Seri...</th><tr><th>Strat_Series1</th><td style=\"background-color: #FFB6C1; width: 20px; height: 20px; border: 1px solid black;\"></td></tr></table></td></tr>\n",
       "          <tr><td></td><td>\n",
       "        <table>\n",
       "          <tr>\n",
       "            <td><div style=\"display: inline-block; background-color: #527682; width: 20px; height: 20px; border: 1px solid black;\"></div> True</td>\n",
       "            <td><div style=\"display: inline-block; background-color: #FFB6C1; width: 20px; height: 20px; border: 1px solid black;\"></div> False</td>\n",
       "          </tr>\n",
       "        </table>\n",
       "        </td></tr>\n",
       "        </table>\n",
       "        "
      ],
      "text/plain": [
       "StructuralFrame(\n",
       "\tstructural_groups=[\n",
       "StructuralGroup(\n",
       "\tname=Strat_Series1,\n",
       "\tstructural_relation=StackRelationType.ERODE,\n",
       "\telements=[\n",
       "Element(\n",
       "\tname=soil3,\n",
       "\tcolor=\u001b[38;2;255;190;0m#ffbe00\u001b[0m,\n",
       "\tis_active=True\n",
       "),\n",
       "Element(\n",
       "\tname=soil2,\n",
       "\tcolor=\u001b[38;2;159;0;82m#9f0052\u001b[0m,\n",
       "\tis_active=True\n",
       "),\n",
       "Element(\n",
       "\tname=soil1,\n",
       "\tcolor=\u001b[38;2;1;84;130m#015482\u001b[0m,\n",
       "\tis_active=True\n",
       ")\n",
       "]\n",
       ")\n",
       "],\n",
       "\tfault_relations=\n",
       "[[False]],"
      ]
     },
     "execution_count": 73,
     "metadata": {},
     "output_type": "execute_result"
    }
   ],
   "source": [
    "# Define structural groups and age/stratigraphic relationship\n",
    "gp.map_stack_to_surfaces(\n",
    "    gempy_model=geo_data,\n",
    "    mapping_object={\n",
    "        \"Strat_Series1\": (\"soil3\",\"soil2\", \"soil1\")\n",
    "    }\n",
    ")"
   ]
  },
  {
   "cell_type": "code",
   "execution_count": 74,
   "id": "cb6dbf8f-8e99-4616-9131-0576eab5f1f0",
   "metadata": {},
   "outputs": [
    {
     "data": {
      "text/html": [
       "\n",
       "                <table>\n",
       "                    <tr><td colspan='2' style='text-align:center'><b>InterpolationOptions</b></td></tr>\n",
       "                    <tr><td>kernel_options</td><td>{'range': 1.7, 'c_o': 10, 'uni_degree': 1, 'i_res': 4, 'gi_res': 2, 'number_dimensions': 3, 'kernel_function': <AvailableKernelFunctions.cubic: KernelFunction(base_function=<function cubic_function at 0x7f35240cb420>, derivative_div_r=<function cubic_function_p_div_r at 0x7f35240cb4c0>, second_derivative=<function cubic_function_a at 0x7f35240cb560>, consume_sq_distance=False)>, 'kernel_solver': <Solvers.DEFAULT: 1>, 'compute_condition_number': False, 'optimizing_condition_number': False, 'condition_number': None}</td></tr><tr><td>evaluation_options</td><td>{'_number_octree_levels': 1, '_number_octree_levels_surface': 4, 'octree_curvature_threshold': -1, 'octree_error_threshold': 1.0, 'octree_min_level': 2, 'mesh_extraction': True, 'mesh_extraction_masking_options': <MeshExtractionMaskingOptions.INTERSECT: 3>, 'mesh_extraction_fancy': True, 'evaluation_chunk_size': 500000, 'compute_scalar_gradient': True, 'verbose': False}</td></tr><tr><td>temp_interpolation_values</td><td><gempy_engine.core.data.options.temp_interpolation_values.TempInterpolationValues object at 0x7f35050f4e50></td></tr><tr><td>debug</td><td>True</td></tr><tr><td>cache_mode</td><td>CacheMode.IN_MEMORY_CACHE</td></tr><tr><td>cache_model_name</td><td>soil_horizontal</td></tr><tr><td>block_solutions_type</td><td>BlockSolutionType.DENSE_GRID</td></tr><tr><td>sigmoid_slope</td><td>50000</td></tr><tr><td>debug_water_tight</td><td>False</td></tr>\n",
       "                </table>\n",
       "                "
      ],
      "text/plain": [
       "InterpolationOptions(kernel_options={'range': 1.7, 'c_o': 10, 'uni_degree': 1, 'i_res': 4, 'gi_res': 2, 'number_dimensions': 3, 'kernel_function': <AvailableKernelFunctions.cubic: KernelFunction(base_function=<function cubic_function at 0x7f35240cb420>, derivative_div_r=<function cubic_function_p_div_r at 0x7f35240cb4c0>, second_derivative=<function cubic_function_a at 0x7f35240cb560>, consume_sq_distance=False)>, 'kernel_solver': <Solvers.DEFAULT: 1>, 'compute_condition_number': False, 'optimizing_condition_number': False, 'condition_number': None}, evaluation_options={'_number_octree_levels': 1, '_number_octree_levels_surface': 4, 'octree_curvature_threshold': -1, 'octree_error_threshold': 1.0, 'octree_min_level': 2, 'mesh_extraction': True, 'mesh_extraction_masking_options': <MeshExtractionMaskingOptions.INTERSECT: 3>, 'mesh_extraction_fancy': True, 'evaluation_chunk_size': 500000, 'compute_scalar_gradient': True, 'verbose': False}, temp_interpolation_values=<gempy_engine.core.data.options.temp_interpolation_values.TempInterpolationValues object at 0x7f35050f7a90>, debug=True, cache_mode=CacheMode.IN_MEMORY_CACHE, cache_model_name=soil_horizontal, block_solutions_type=BlockSolutionType.DENSE_GRID, sigmoid_slope=50000, debug_water_tight=False)"
      ]
     },
     "execution_count": 74,
     "metadata": {},
     "output_type": "execute_result"
    }
   ],
   "source": [
    "geo_data.interpolation_options"
   ]
  },
  {
   "cell_type": "code",
   "execution_count": 75,
   "id": "c3d758f6-a9c4-4121-aac4-6f96f7b7d49c",
   "metadata": {},
   "outputs": [
    {
     "name": "stdout",
     "output_type": "stream",
     "text": [
      "Setting Backend To: AvailableBackends.numpy\n",
      "Chunking done: 10 chunks\n"
     ]
    },
    {
     "data": {
      "text/html": [
       "<b>Solutions:</b> 4 Octree Levels, 3 DualContouringMeshes"
      ],
      "text/plain": [
       "Solutions(4 Octree Levels, 3 DualContouringMeshes)"
      ]
     },
     "execution_count": 75,
     "metadata": {},
     "output_type": "execute_result"
    }
   ],
   "source": [
    "gp.compute_model(geo_data)"
   ]
  },
  {
   "cell_type": "code",
   "execution_count": 76,
   "id": "3c0951d7-4667-4021-9030-dc2dc57e4ce8",
   "metadata": {},
   "outputs": [
    {
     "name": "stderr",
     "output_type": "stream",
     "text": [
      "/home/sysop/Programs/anaconda3/lib/python3.11/site-packages/gempy_viewer/API/_plot_2d_API.py:174: UserWarning: FigureCanvasAgg is non-interactive, and thus cannot be shown\n",
      "  p.fig.show()\n"
     ]
    },
    {
     "data": {
      "text/plain": [
       "<gempy_viewer.modules.plot_2d.visualization_2d.Plot2D at 0x7f35052d8590>"
      ]
     },
     "execution_count": 76,
     "metadata": {},
     "output_type": "execute_result"
    },
    {
     "data": {
      "image/png": "[encoded data removed]",
      "text/plain": [
       "<Figure size 1040x715 with 2 Axes>"
      ]
     },
     "metadata": {},
     "output_type": "display_data"
    }
   ],
   "source": [
    "# Plot the result of the model in the x and y direction with data and without boundaries\n",
    "gpv.plot_2d(geo_data, direction=['x'],ve=100, show_data=True, show_boundaries=False)"
   ]
  },
  {
   "cell_type": "code",
   "execution_count": 80,
   "id": "27053b47-8135-4f32-a0bd-192c901aed64",
   "metadata": {},
   "outputs": [
    {
     "name": "stderr",
     "output_type": "stream",
     "text": [
      "/home/sysop/Programs/anaconda3/lib/python3.11/site-packages/gempy_viewer/API/_plot_2d_API.py:174: UserWarning: FigureCanvasAgg is non-interactive, and thus cannot be shown\n",
      "  p.fig.show()\n"
     ]
    },
    {
     "data": {
      "text/plain": [
       "<gempy_viewer.modules.plot_2d.visualization_2d.Plot2D at 0x7f34ef3f1150>"
      ]
     },
     "execution_count": 80,
     "metadata": {},
     "output_type": "execute_result"
    },
    {
     "data": {
      "image/png": "[encoded data removed]",
      "text/plain": [
       "<Figure size 1040x715 with 2 Axes>"
      ]
     },
     "metadata": {},
     "output_type": "display_data"
    }
   ],
   "source": [
    "gpv.plot_2d(geo_data, direction=['y'],ve=50, show_data=True, show_boundaries=True)"
   ]
  },
  {
   "cell_type": "code",
   "execution_count": 81,
   "id": "036ec13e-99bc-4840-afa7-5ef3e110cc86",
   "metadata": {},
   "outputs": [
    {
     "data": {
      "text/plain": [
       "<gempy_viewer.modules.plot_3d.vista.GemPyToVista at 0x7f34ef2af350>"
      ]
     },
     "execution_count": 81,
     "metadata": {},
     "output_type": "execute_result"
    }
   ],
   "source": [
    "gpv.plot_3d(geo_data,ve=50)"
   ]
  },
  {
   "cell_type": "code",
   "execution_count": 54,
   "id": "f21b589d-e530-40d2-a882-dd31aee4c33a",
   "metadata": {},
   "outputs": [
    {
     "data": {
      "text/plain": [
       "<gempy_viewer.modules.plot_2d.visualization_2d.Plot2D at 0x7f7fe50c4b50>"
      ]
     },
     "execution_count": 54,
     "metadata": {},
     "output_type": "execute_result"
    },
    {
     "data": {
      "image/png": "[encoded data removed]",
      "text/plain": [
       "<Figure size 1040x715 with 2 Axes>"
      ]
     },
     "metadata": {},
     "output_type": "display_data"
    }
   ],
   "source": [
    "# 2D visualization:\n",
    "gpv.plot_2d(geo_data,ve=100, cell_number=[5])"
   ]
  },
  {
   "cell_type": "code",
   "execution_count": 55,
   "id": "e162b753-0dda-4fdc-a982-370c9e2a646d",
   "metadata": {},
   "outputs": [
    {
     "data": {
      "text/plain": [
       "array([3, 3, 3, ..., 1, 1, 1], dtype=int8)"
      ]
     },
     "execution_count": 55,
     "metadata": {},
     "output_type": "execute_result"
    }
   ],
   "source": [
    "geo_data.solutions.raw_arrays.lith_block"
   ]
  },
  {
   "cell_type": "code",
   "execution_count": 56,
   "id": "06ff24b1-d41d-4ad7-a196-364bc9a636dd",
   "metadata": {},
   "outputs": [
    {
     "data": {
      "text/plain": [
       "array([[ 5.0000e-01,  5.0000e-01, -1.4925e+00],\n",
       "       [ 5.0000e-01,  5.0000e-01, -1.4775e+00],\n",
       "       [ 5.0000e-01,  5.0000e-01, -1.4625e+00],\n",
       "       ...,\n",
       "       [ 9.9500e+01,  9.9500e+01, -3.7500e-02],\n",
       "       [ 9.9500e+01,  9.9500e+01, -2.2500e-02],\n",
       "       [ 9.9500e+01,  9.9500e+01, -7.5000e-03]])"
      ]
     },
     "execution_count": 56,
     "metadata": {},
     "output_type": "execute_result"
    }
   ],
   "source": [
    "geo_data.grid.regular_grid.values"
   ]
  },
  {
   "cell_type": "code",
   "execution_count": 57,
   "id": "b3eb73d0-9cb0-4f26-9d07-5955d736b0ef",
   "metadata": {},
   "outputs": [
    {
     "data": {
      "text/plain": [
       "array([-0.492498, -0.477498, -0.462498, ...,  0.962502,  0.977502,\n",
       "        0.992502])"
      ]
     },
     "execution_count": 57,
     "metadata": {},
     "output_type": "execute_result"
    }
   ],
   "source": [
    "geo_data.solutions.raw_arrays.scalar_field_matrix[0]"
   ]
  },
  {
   "cell_type": "code",
   "execution_count": 58,
   "id": "b104fafc-c5d2-44af-9094-e493d33bb6ae",
   "metadata": {},
   "outputs": [
    {
     "data": {
      "text/plain": [
       "<gempy_viewer.modules.plot_3d.vista.GemPyToVista at 0x7f7fe5138d10>"
      ]
     },
     "execution_count": 58,
     "metadata": {},
     "output_type": "execute_result"
    }
   ],
   "source": [
    "gpv.plot_3d(geo_data,ve=100)"
   ]
  },
  {
   "cell_type": "code",
   "execution_count": null,
   "id": "d08b5fba-5571-459a-a5c2-f7c868dc823f",
   "metadata": {},
   "outputs": [],
   "source": [
    "# 2D visualization:\n",
    "gpv.plot_2d(geo_data, cell_number=[5])"
   ]
  },
  {
   "cell_type": "code",
   "execution_count": null,
   "id": "8ea936b3-c57f-493d-afb4-6f09a42089eb",
   "metadata": {},
   "outputs": [],
   "source": [
    "gpv.plot_2d(geo_data, show_value=True, show_lith=False, show_scalar=True, cell_number=25)\n",
    "plt.scatter(X, Y, s=1)\n"
   ]
  },
  {
   "cell_type": "code",
   "execution_count": null,
   "id": "3eee572b-6399-45bc-8877-19c01a033d03",
   "metadata": {},
   "outputs": [],
   "source": [
    "Y"
   ]
  },
  {
   "cell_type": "code",
   "execution_count": null,
   "id": "0d776939-ffe8-467b-bc1e-dc922833da8a",
   "metadata": {},
   "outputs": [],
   "source": [
    "# Set up plotter\n",
    "p3d = gpv.plot_3d(geo_data, notebook=True)\n"
   ]
  },
  {
   "cell_type": "code",
   "execution_count": null,
   "id": "ea20c9c4-8128-4f27-abde-173face348d9",
   "metadata": {},
   "outputs": [],
   "source": [
    "gravity_gradient.shape"
   ]
  }
 ],
 "metadata": {
  "kernelspec": {
   "display_name": "Python 3 (ipykernel)",
   "language": "python",
   "name": "python3"
  },
  "language_info": {
   "codemirror_mode": {
    "name": "ipython",
    "version": 3
   },
   "file_extension": ".py",
   "mimetype": "text/x-python",
   "name": "python",
   "nbconvert_exporter": "python",
   "pygments_lexer": "ipython3",
   "version": "3.11.7"
  }
 },
 "nbformat": 4,
 "nbformat_minor": 5
}
